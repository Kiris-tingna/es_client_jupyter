{
 "cells": [
  {
   "cell_type": "markdown",
   "metadata": {},
   "source": [
    "## Elasticsearch Client tutorial (Python)\n",
    "In this notebook you can see how the ESClient works and try it yourself live."
   ]
  },
  {
   "cell_type": "code",
   "execution_count": 6,
   "metadata": {
    "collapsed": true
   },
   "outputs": [],
   "source": [
    "## Import all the needed libraries\n",
    "from elasticsearch import helpers\n",
    "from elasticsearch import Elasticsearch\n",
    "import os\n",
    "import sys\n",
    "import json\n",
    "import logging.config\n",
    "from elasticsearch import RequestsHttpConnection"
   ]
  },
  {
   "cell_type": "code",
   "execution_count": 7,
   "metadata": {
    "collapsed": true
   },
   "outputs": [],
   "source": [
    "## Create connection using proxy\n",
    "class MyConnection(RequestsHttpConnection):\n",
    "    def __init__(self, *args, **kwargs):\n",
    "        proxies = kwargs.pop('proxies', {})\n",
    "        super(MyConnection, self).__init__(*args, **kwargs)\n",
    "        self.session.proxies = proxies"
   ]
  },
  {
   "cell_type": "code",
   "execution_count": 10,
   "metadata": {},
   "outputs": [],
   "source": [
    "## Create Elasticsearch client\n",
    "es = Elasticsearch('es_host:es_port', \n",
    "                   connection_class=MyConnection, \n",
    "                   proxies = {'http': 'proxy_host:proxy_port'})"
   ]
  },
  {
   "cell_type": "code",
   "execution_count": 11,
   "metadata": {},
   "outputs": [],
   "source": [
    "## If you want to print all the indexes in Elasticsearch\n",
    "for index in es.indices.get('*'):\n",
    "    print(index)"
   ]
  },
  {
   "cell_type": "code",
   "execution_count": 12,
   "metadata": {},
   "outputs": [],
   "source": [
    "## Change index and doc_type depending on the kind of search you want to do\n",
    "index = 'your_index'\n",
    "doc_type = 'your_doc_type'\n",
    "size = 1000 # More info: http://elasticsearch-py.readthedocs.io/en/master/helpers.html#scan\n",
    "\n",
    "docs = helpers.scan(\n",
    "            es, \n",
    "            query={'query': {'match_all': {}}}, \n",
    "                    index=index,\n",
    "                    doc_type=doc_type,\n",
    "                    size=size)"
   ]
  },
  {
   "cell_type": "code",
   "execution_count": null,
   "metadata": {
    "collapsed": true
   },
   "outputs": [],
   "source": [
    "# Now that you have the data, you can create a cool DataFrame with pandas\n",
    "df = pd.DataFrame([{\n",
    "    'field_1': doc['parent_field']['field_1'],\n",
    "    'field_2': child_field['field_2'],\n",
    "    'field_3': child_field['field_3']}\n",
    "    for doc in docs for child_field in doc['parent_field']['child_field']])\n",
    "\n",
    "df"
   ]
  }
 ],
 "metadata": {
  "celltoolbar": "Raw Cell Format",
  "kernelspec": {
   "display_name": "Python 3",
   "language": "python",
   "name": "python3"
  },
  "language_info": {
   "codemirror_mode": {
    "name": "ipython",
    "version": 3
   },
   "file_extension": ".py",
   "mimetype": "text/x-python",
   "name": "python",
   "nbconvert_exporter": "python",
   "pygments_lexer": "ipython3",
   "version": "3.6.2"
  }
 },
 "nbformat": 4,
 "nbformat_minor": 2
}
